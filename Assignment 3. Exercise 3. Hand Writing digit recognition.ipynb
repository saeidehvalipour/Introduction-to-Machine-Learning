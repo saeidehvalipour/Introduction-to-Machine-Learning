{
 "cells": [
  {
   "cell_type": "markdown",
   "metadata": {},
   "source": [
    "# Assignment 3.Exercise 3: Hand Writing digit recognition"
   ]
  },
  {
   "cell_type": "markdown",
   "metadata": {},
   "source": [
    "I used \"Mastering Machine Learning with Scikit-learn\" book written by \"Gavin Hackeling\" \"https://tanthiamhuat.files.wordpress.com/2018/04/mastering-machine-learning-with-scikit-learn.pdf\" Chapter 9, page 179, Topic: \"Classifying handwriting digits\"."
   ]
  },
  {
   "cell_type": "code",
   "execution_count": 9,
   "metadata": {},
   "outputs": [],
   "source": [
    "import matplotlib.pyplot as plt\n",
    "from sklearn.datasets import fetch_mldata\n",
    "import matplotlib.cm as cm\n",
    "import warnings; warnings.simplefilter('ignore')"
   ]
  },
  {
   "cell_type": "markdown",
   "metadata": {},
   "source": [
    "First, I load the data.scikit-learn provides the fetch-mldata convenience function to download the data set if it is not found on disk,and read it intto an object."
   ]
  },
  {
   "cell_type": "code",
   "execution_count": 11,
   "metadata": {},
   "outputs": [],
   "source": [
    "digits= fetch_mldata('MNIST original', data_home='data/mnist').data"
   ]
  },
  {
   "cell_type": "markdown",
   "metadata": {},
   "source": [
    "I create a subplot for five instance for the digits zero, one and two. The script produces the following figure:"
   ]
  },
  {
   "cell_type": "code",
   "execution_count": 12,
   "metadata": {},
   "outputs": [
    {
     "data": {
      "image/png": "[encoded data removed]",
      "text/plain": [
       "<Figure size 432x288 with 15 Axes>"
      ]
     },
     "metadata": {
      "needs_background": "light"
     },
     "output_type": "display_data"
    }
   ],
   "source": [
    "counter =1\n",
    "for i in range(1,4):\n",
    "    for j in range(1,6):\n",
    "        plt.subplot(3,5, counter)\n",
    "        plt.imshow(digits[(i-1)* 8000 + j].reshape((28, 28)), cmap=cm.Greys_r)\n",
    "        plt.axis('off')\n",
    "        counter+=1\n",
    "plt.show()        "
   ]
  },
  {
   "cell_type": "code",
   "execution_count": 4,
   "metadata": {},
   "outputs": [],
   "source": [
    "from sklearn.datasets import fetch_mldata\n",
    "from sklearn.pipeline import Pipeline\n",
    "from sklearn.preprocessing import scale\n",
    "from sklearn.model_selection import train_test_split\n",
    "from sklearn.svm import SVC\n",
    "from sklearn.model_selection import GridSearchCV\n",
    "from sklearn.metrics import classification_report"
   ]
  },
  {
   "cell_type": "markdown",
   "metadata": {},
   "source": [
    "The script will fork additional processes during grid search. We then split the processed data into training and test sets using the 'train_test_split'."
   ]
  },
  {
   "cell_type": "code",
   "execution_count": 13,
   "metadata": {},
   "outputs": [],
   "source": [
    "data= fetch_mldata('MNIST original', data_home='data/mnist')\n",
    "X = data.data\n",
    "y = data.target\n",
    "X = X/255.0*2 -1\n",
    "X_train, X_test, y_train, y_test = train_test_split(X, y)"
   ]
  },
  {
   "cell_type": "markdown",
   "metadata": {},
   "source": [
    "### Hyperparameters tuning "
   ]
  },
  {
   "cell_type": "markdown",
   "metadata": {},
   "source": [
    "In Support Vectpr Machines, the estimator requires more hyperparameters than most of the others. The most interesting hyperparameters for SVC are set by kernel, gamma and C keyword argumets. Setting these hyperparameters can be challenging, I tune them by grid searching with the following code:"
   ]
  },
  {
   "cell_type": "code",
   "execution_count": 14,
   "metadata": {},
   "outputs": [
    {
     "name": "stdout",
     "output_type": "stream",
     "text": [
      "(52500, 784)\n"
     ]
    }
   ],
   "source": [
    "pipeline = Pipeline([('clf', SVC(kernel = 'rbf', gamma = 0.01, C=100))])\n",
    "print(X_train.shape)"
   ]
  },
  {
   "cell_type": "code",
   "execution_count": 15,
   "metadata": {},
   "outputs": [],
   "source": [
    "parameters = {\n",
    "    'clf__gamma': (0.01, 0.03, 0.1, 0.3, 1),\n",
    "    'clf__C': (0.1, 0.3, 1, 3, 10, 30),\n",
    "}"
   ]
  },
  {
   "cell_type": "markdown",
   "metadata": {},
   "source": [
    "It takes 1 hour and 40 minutes to run :( . Note that you don't need to run this, just load model in 'modelExe3MNIST.dat'."
   ]
  },
  {
   "cell_type": "code",
   "execution_count": 16,
   "metadata": {},
   "outputs": [
    {
     "name": "stdout",
     "output_type": "stream",
     "text": [
      "Fitting 3 folds for each of 30 candidates, totalling 90 fits\n"
     ]
    },
    {
     "name": "stderr",
     "output_type": "stream",
     "text": [
      "[Parallel(n_jobs=2)]: Using backend LokyBackend with 2 concurrent workers.\n",
      "[Parallel(n_jobs=2)]: Done  46 tasks      | elapsed: 76.6min\n",
      "[Parallel(n_jobs=2)]: Done  90 out of  90 | elapsed: 124.0min finished\n"
     ]
    },
    {
     "data": {
      "text/plain": [
       "GridSearchCV(cv='warn', error_score='raise-deprecating',\n",
       "       estimator=Pipeline(memory=None,\n",
       "     steps=[('clf', SVC(C=100, cache_size=200, class_weight=None, coef0=0.0,\n",
       "  decision_function_shape='ovr', degree=3, gamma=0.01, kernel='rbf',\n",
       "  max_iter=-1, probability=False, random_state=None, shrinking=True,\n",
       "  tol=0.001, verbose=False))]),\n",
       "       fit_params=None, iid='warn', n_jobs=2,\n",
       "       param_grid={'clf__gamma': (0.01, 0.03, 0.1, 0.3, 1), 'clf__C': (0.1, 0.3, 1, 3, 10, 30)},\n",
       "       pre_dispatch='2*n_jobs', refit=True, return_train_score='warn',\n",
       "       scoring='accuracy', verbose=1)"
      ]
     },
     "execution_count": 16,
     "metadata": {},
     "output_type": "execute_result"
    }
   ],
   "source": [
    "grid_search = GridSearchCV(pipeline, parameters, n_jobs=2, verbose=1, scoring='accuracy')\n",
    "grid_search.fit(X_train[:10000], y_train[:10000])"
   ]
  },
  {
   "cell_type": "markdown",
   "metadata": {},
   "source": [
    "### Presistence model "
   ]
  },
  {
   "cell_type": "code",
   "execution_count": 20,
   "metadata": {},
   "outputs": [],
   "source": [
    "import pickle\n",
    "name = 'modelExe3MNIST.dat'\n",
    "\n",
    "with open(name, 'wb') as f:\n",
    "    pipeline = pickle.dump(grid_search, f)"
   ]
  },
  {
   "cell_type": "markdown",
   "metadata": {},
   "source": [
    "### Load model "
   ]
  },
  {
   "cell_type": "code",
   "execution_count": 22,
   "metadata": {},
   "outputs": [],
   "source": [
    "def load_ml():\n",
    "    with open('modelExe3MNIST.dat', 'rb') as f:\n",
    "        model = pickle.load(f)\n",
    "    return model"
   ]
  },
  {
   "cell_type": "markdown",
   "metadata": {},
   "source": [
    "### Performance and Evaluation on MNIST dataset "
   ]
  },
  {
   "cell_type": "code",
   "execution_count": 23,
   "metadata": {},
   "outputs": [
    {
     "name": "stdout",
     "output_type": "stream",
     "text": [
      "Best score: 0.963\n",
      "Best parameters set:\n",
      "clf__C: 3\n",
      "clf__gamma: 0.01\n"
     ]
    }
   ],
   "source": [
    "print('Best score: %0.3f' % grid_search.best_score_)\n",
    "print('Best parameters set:')\n",
    "best_parameters = grid_search.best_estimator_.get_params()\n",
    "for param_name in sorted(parameters.keys()):\n",
    "    print('%s: %r' % (param_name, best_parameters[param_name]))"
   ]
  },
  {
   "cell_type": "markdown",
   "metadata": {},
   "source": [
    "### Classification report "
   ]
  },
  {
   "cell_type": "markdown",
   "metadata": {},
   "source": [
    "It take 3 minutes"
   ]
  },
  {
   "cell_type": "code",
   "execution_count": 24,
   "metadata": {},
   "outputs": [
    {
     "name": "stdout",
     "output_type": "stream",
     "text": [
      "              precision    recall  f1-score   support\n",
      "\n",
      "         0.0       0.98      0.98      0.98      1704\n",
      "         1.0       0.98      0.98      0.98      1977\n",
      "         2.0       0.95      0.98      0.97      1750\n",
      "         3.0       0.97      0.95      0.96      1790\n",
      "         4.0       0.96      0.98      0.97      1691\n",
      "         5.0       0.96      0.97      0.97      1559\n",
      "         6.0       0.98      0.98      0.98      1709\n",
      "         7.0       0.97      0.97      0.97      1872\n",
      "         8.0       0.95      0.96      0.96      1658\n",
      "         9.0       0.97      0.95      0.96      1790\n",
      "\n",
      "   micro avg       0.97      0.97      0.97     17500\n",
      "   macro avg       0.97      0.97      0.97     17500\n",
      "weighted avg       0.97      0.97      0.97     17500\n",
      "\n"
     ]
    }
   ],
   "source": [
    "prediction = grid_search.predict(X_test)\n",
    "print(classification_report(y_test, prediction))"
   ]
  },
  {
   "cell_type": "code",
   "execution_count": 25,
   "metadata": {},
   "outputs": [
    {
     "data": {
      "text/plain": [
       "{'mean_fit_time': array([ 92.76297077, 141.83472625, 148.54124975, 150.2727704 ,\n",
       "        149.33556755,  66.81070439, 145.15126681, 149.38446768,\n",
       "        151.64736199, 152.21985006,  36.83951871,  78.9554019 ,\n",
       "         80.31081533,  82.41776681,  80.20580928,  35.76757701,\n",
       "         78.07494378,  81.97950315,  82.25438293,  82.22026658,\n",
       "         37.70005242,  78.61553248,  81.900606  ,  82.0171771 ,\n",
       "         81.24399765,  38.33362126,  78.87922327,  78.672743  ,\n",
       "         77.94420028,  79.27821438]),\n",
       " 'std_fit_time': array([2.8182771 , 1.18261088, 1.53275583, 0.86067539, 0.84046882,\n",
       "        0.70488666, 0.71608723, 1.31330536, 0.4192218 , 2.14983305,\n",
       "        1.03279048, 0.46149823, 0.13249463, 1.32031392, 1.69002262,\n",
       "        0.33578226, 1.36205215, 0.93831547, 0.89605946, 0.34816705,\n",
       "        0.75721495, 0.83867856, 0.62787243, 0.33461999, 0.87328949,\n",
       "        1.3181745 , 1.08602953, 0.6445953 , 0.06198896, 1.22783424]),\n",
       " 'mean_score_time': array([31.04990983, 35.94058371, 38.17996995, 37.19519933, 36.65276639,\n",
       "        24.6420397 , 34.33906563, 37.11503108, 37.04253594, 36.79216393,\n",
       "        13.16107194, 19.07526612, 20.83627597, 20.58474898, 20.31771111,\n",
       "        13.06038173, 18.80649861, 20.75114846, 20.43765982, 20.9564174 ,\n",
       "        13.1909159 , 18.96778361, 20.91601459, 20.39776691, 20.75267593,\n",
       "        13.22272841, 18.76792224, 19.78047371, 19.96061428, 20.41289155]),\n",
       " 'std_score_time': array([1.24037416, 0.19003026, 1.62725991, 0.67812935, 0.73322945,\n",
       "        0.48742897, 0.03940074, 1.05201355, 0.37470063, 0.58196225,\n",
       "        0.25513682, 0.14186889, 0.61307023, 0.22941549, 0.29452639,\n",
       "        0.57610031, 0.36825313, 0.19348142, 0.46535111, 0.15358774,\n",
       "        0.30616264, 0.23061773, 0.47076705, 0.11810743, 0.33160825,\n",
       "        0.14790049, 0.36731833, 0.02734254, 0.04763359, 0.39587087]),\n",
       " 'param_clf__C': masked_array(data=[0.1, 0.1, 0.1, 0.1, 0.1, 0.3, 0.3, 0.3, 0.3, 0.3, 1, 1,\n",
       "                    1, 1, 1, 3, 3, 3, 3, 3, 10, 10, 10, 10, 10, 30, 30, 30,\n",
       "                    30, 30],\n",
       "              mask=[False, False, False, False, False, False, False, False,\n",
       "                    False, False, False, False, False, False, False, False,\n",
       "                    False, False, False, False, False, False, False, False,\n",
       "                    False, False, False, False, False, False],\n",
       "        fill_value='?',\n",
       "             dtype=object),\n",
       " 'param_clf__gamma': masked_array(data=[0.01, 0.03, 0.1, 0.3, 1, 0.01, 0.03, 0.1, 0.3, 1, 0.01,\n",
       "                    0.03, 0.1, 0.3, 1, 0.01, 0.03, 0.1, 0.3, 1, 0.01, 0.03,\n",
       "                    0.1, 0.3, 1, 0.01, 0.03, 0.1, 0.3, 1],\n",
       "              mask=[False, False, False, False, False, False, False, False,\n",
       "                    False, False, False, False, False, False, False, False,\n",
       "                    False, False, False, False, False, False, False, False,\n",
       "                    False, False, False, False, False, False],\n",
       "        fill_value='?',\n",
       "             dtype=object),\n",
       " 'params': [{'clf__C': 0.1, 'clf__gamma': 0.01},\n",
       "  {'clf__C': 0.1, 'clf__gamma': 0.03},\n",
       "  {'clf__C': 0.1, 'clf__gamma': 0.1},\n",
       "  {'clf__C': 0.1, 'clf__gamma': 0.3},\n",
       "  {'clf__C': 0.1, 'clf__gamma': 1},\n",
       "  {'clf__C': 0.3, 'clf__gamma': 0.01},\n",
       "  {'clf__C': 0.3, 'clf__gamma': 0.03},\n",
       "  {'clf__C': 0.3, 'clf__gamma': 0.1},\n",
       "  {'clf__C': 0.3, 'clf__gamma': 0.3},\n",
       "  {'clf__C': 0.3, 'clf__gamma': 1},\n",
       "  {'clf__C': 1, 'clf__gamma': 0.01},\n",
       "  {'clf__C': 1, 'clf__gamma': 0.03},\n",
       "  {'clf__C': 1, 'clf__gamma': 0.1},\n",
       "  {'clf__C': 1, 'clf__gamma': 0.3},\n",
       "  {'clf__C': 1, 'clf__gamma': 1},\n",
       "  {'clf__C': 3, 'clf__gamma': 0.01},\n",
       "  {'clf__C': 3, 'clf__gamma': 0.03},\n",
       "  {'clf__C': 3, 'clf__gamma': 0.1},\n",
       "  {'clf__C': 3, 'clf__gamma': 0.3},\n",
       "  {'clf__C': 3, 'clf__gamma': 1},\n",
       "  {'clf__C': 10, 'clf__gamma': 0.01},\n",
       "  {'clf__C': 10, 'clf__gamma': 0.03},\n",
       "  {'clf__C': 10, 'clf__gamma': 0.1},\n",
       "  {'clf__C': 10, 'clf__gamma': 0.3},\n",
       "  {'clf__C': 10, 'clf__gamma': 1},\n",
       "  {'clf__C': 30, 'clf__gamma': 0.01},\n",
       "  {'clf__C': 30, 'clf__gamma': 0.03},\n",
       "  {'clf__C': 30, 'clf__gamma': 0.1},\n",
       "  {'clf__C': 30, 'clf__gamma': 0.3},\n",
       "  {'clf__C': 30, 'clf__gamma': 1}],\n",
       " 'split0_test_score': array([0.91007194, 0.20233813, 0.11061151, 0.11061151, 0.11061151,\n",
       "        0.94394484, 0.45923261, 0.15077938, 0.11061151, 0.11061151,\n",
       "        0.96073141, 0.79736211, 0.18944844, 0.18135492, 0.11061151,\n",
       "        0.96282974, 0.8117506 , 0.19394484, 0.18435252, 0.11061151,\n",
       "        0.96282974, 0.8117506 , 0.19394484, 0.18435252, 0.11061151,\n",
       "        0.96282974, 0.8117506 , 0.19394484, 0.18435252, 0.11061151]),\n",
       " 'split1_test_score': array([0.89528953, 0.20072007, 0.11071107, 0.11071107, 0.11071107,\n",
       "        0.93819382, 0.40324032, 0.15571557, 0.11071107, 0.11071107,\n",
       "        0.95709571, 0.78247825, 0.18931893, 0.17521752, 0.11071107,\n",
       "        0.95919592, 0.79387939, 0.19261926, 0.17851785, 0.11071107,\n",
       "        0.95919592, 0.79387939, 0.19261926, 0.17851785, 0.11071107,\n",
       "        0.95919592, 0.79387939, 0.19261926, 0.17851785, 0.11071107]),\n",
       " 'split2_test_score': array([0.90003002, 0.20054038, 0.11047733, 0.11047733, 0.11047733,\n",
       "        0.95016512, 0.36055239, 0.15911138, 0.11047733, 0.11047733,\n",
       "        0.96427499, 0.79675773, 0.18913239, 0.18583008, 0.11047733,\n",
       "        0.96697688, 0.80996698, 0.19303512, 0.18703092, 0.11047733,\n",
       "        0.96697688, 0.80996698, 0.19303512, 0.18703092, 0.11047733,\n",
       "        0.96697688, 0.80996698, 0.19303512, 0.18703092, 0.11047733]),\n",
       " 'mean_test_score': array([0.9018, 0.2012, 0.1106, 0.1106, 0.1106, 0.9441, 0.4077, 0.1552,\n",
       "        0.1106, 0.1106, 0.9607, 0.7922, 0.1893, 0.1808, 0.1106, 0.963 ,\n",
       "        0.8052, 0.1932, 0.1833, 0.1106, 0.963 , 0.8052, 0.1932, 0.1833,\n",
       "        0.1106, 0.963 , 0.8052, 0.1932, 0.1833, 0.1106]),\n",
       " 'std_test_score': array([6.16420850e-03, 8.08595311e-04, 9.57506194e-05, 9.57506194e-05,\n",
       "        9.57506194e-05, 4.88751644e-03, 4.04102418e-02, 3.42108664e-03,\n",
       "        9.57506194e-05, 9.57506194e-05, 2.93042790e-03, 6.87822846e-03,\n",
       "        1.29721963e-04, 4.34944937e-03, 9.57506194e-05, 3.17821373e-03,\n",
       "        8.03733550e-03, 5.53661889e-04, 3.55365387e-03, 9.57506194e-05,\n",
       "        3.17821373e-03, 8.03733550e-03, 5.53661889e-04, 3.55365387e-03,\n",
       "        9.57506194e-05, 3.17821373e-03, 8.03733550e-03, 5.53661889e-04,\n",
       "        3.55365387e-03, 9.57506194e-05]),\n",
       " 'rank_test_score': array([ 6, 12, 22, 22, 22,  5, 11, 21, 22, 22,  4, 10, 16, 20, 22,  1,  7,\n",
       "        13, 17, 22,  1,  7, 13, 17, 22,  1,  7, 13, 17, 22], dtype=int32),\n",
       " 'split0_train_score': array([0.93397359, 0.20243097, 0.11059424, 0.11059424, 0.11059424,\n",
       "        0.97959184, 0.62590036, 0.18232293, 0.11059424, 0.11059424,\n",
       "        0.99909964, 1.        , 1.        , 1.        , 1.        ,\n",
       "        1.        , 1.        , 1.        , 1.        , 1.        ,\n",
       "        1.        , 1.        , 1.        , 1.        , 1.        ,\n",
       "        1.        , 1.        , 1.        , 1.        , 1.        ]),\n",
       " 'split1_train_score': array([0.93280336, 0.20353982, 0.11054447, 0.11054447, 0.11054447,\n",
       "        0.98065097, 0.63461827, 0.18089096, 0.11054447, 0.11054447,\n",
       "        0.99895005, 1.        , 1.        , 1.        , 1.        ,\n",
       "        1.        , 1.        , 1.        , 1.        , 1.        ,\n",
       "        1.        , 1.        , 1.        , 1.        , 1.        ,\n",
       "        1.        , 1.        , 1.        , 1.        , 1.        ]),\n",
       " 'split2_train_score': array([0.92892488, 0.20332883, 0.11066127, 0.11066127, 0.11066127,\n",
       "        0.97780777, 0.63907632, 0.18998351, 0.11066127, 0.11066127,\n",
       "        0.99895037, 1.        , 1.        , 1.        , 1.        ,\n",
       "        1.        , 1.        , 1.        , 1.        , 1.        ,\n",
       "        1.        , 1.        , 1.        , 1.        , 1.        ,\n",
       "        1.        , 1.        , 1.        , 1.        , 1.        ]),\n",
       " 'mean_train_score': array([0.93190061, 0.20309988, 0.11059999, 0.11059999, 0.11059999,\n",
       "        0.97935019, 0.63319832, 0.18439913, 0.11059999, 0.11059999,\n",
       "        0.99900002, 1.        , 1.        , 1.        , 1.        ,\n",
       "        1.        , 1.        , 1.        , 1.        , 1.        ,\n",
       "        1.        , 1.        , 1.        , 1.        , 1.        ,\n",
       "        1.        , 1.        , 1.        , 1.        , 1.        ]),\n",
       " 'std_train_score': array([2.15771423e-03, 4.80765914e-04, 4.78550329e-05, 4.78550329e-05,\n",
       "        4.78550329e-05, 1.17324095e-03, 5.47197089e-03, 3.99178954e-03,\n",
       "        4.78550329e-05, 4.78550329e-05, 7.04420578e-05, 0.00000000e+00,\n",
       "        0.00000000e+00, 0.00000000e+00, 0.00000000e+00, 0.00000000e+00,\n",
       "        0.00000000e+00, 0.00000000e+00, 0.00000000e+00, 0.00000000e+00,\n",
       "        0.00000000e+00, 0.00000000e+00, 0.00000000e+00, 0.00000000e+00,\n",
       "        0.00000000e+00, 0.00000000e+00, 0.00000000e+00, 0.00000000e+00,\n",
       "        0.00000000e+00, 0.00000000e+00])}"
      ]
     },
     "execution_count": 25,
     "metadata": {},
     "output_type": "execute_result"
    }
   ],
   "source": [
    "grid_search.cv_results_"
   ]
  },
  {
   "cell_type": "code",
   "execution_count": null,
   "metadata": {},
   "outputs": [],
   "source": []
  }
 ],
 "metadata": {
  "kernelspec": {
   "display_name": "Python 3",
   "language": "python",
   "name": "python3"
  },
  "language_info": {
   "codemirror_mode": {
    "name": "ipython",
    "version": 3
   },
   "file_extension": ".py",
   "mimetype": "text/x-python",
   "name": "python",
   "nbconvert_exporter": "python",
   "pygments_lexer": "ipython3",
   "version": "3.6.8"
  }
 },
 "nbformat": 4,
 "nbformat_minor": 2
}
