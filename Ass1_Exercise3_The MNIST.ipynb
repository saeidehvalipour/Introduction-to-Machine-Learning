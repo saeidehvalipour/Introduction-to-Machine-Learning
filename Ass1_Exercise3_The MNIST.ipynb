{
 "cells": [
  {
   "cell_type": "markdown",
   "metadata": {},
   "source": [
    "# Exercise3: MNIST Data"
   ]
  },
  {
   "cell_type": "markdown",
   "metadata": {},
   "source": [
    "I used \"Python Machine Learning\" book written by \"Sebastian Raschka\"\n",
    "\"https://www.academia.edu/37250098/Python_Machine_Learning.pdf\"\n",
    "Chapter12, page 351, Topic: \"Obtaining the MNIST\".\n"
   ]
  },
  {
   "cell_type": "code",
   "execution_count": 64,
   "metadata": {},
   "outputs": [],
   "source": [
    "import os\n",
    "import struct\n",
    "import numpy as np"
   ]
  },
  {
   "cell_type": "markdown",
   "metadata": {},
   "source": [
    "The Load_mnist function return two arrays, the fisrt begin an n*m dimensional Numpy array(images), where n is the number of samples and m is the number of features. The training data set consist 60000 training digit and test set contains 10000 samples. \n",
    "\n",
    "The second array (labels) returned by the load_mnist function contains the corresponding target variable, the class labels (integers 0-9) of the handwriten digits.\n",
    "\n",
    "The way we read in the image might seem a little bit strange at first:\n",
    "\n",
    "magic, n = struct.unpack('>II',lbpath.read(8))\n",
    "labels = np.fromfile(lbpath,dtype = np.uint8)\n",
    "\n",
    "To understand these two lines, we first read in magic number, which is a description of the file protocol as well as the number  of items (n) from the file buffer before we read the following bytes into a Numpy array using the fromfile method. The fmt parameter value >II that we passed as an argument to struct.unpack has two parts:\n",
    "\n",
    "1) (>): This is big-endian which defines the order in which a sequence of the bytes is sorted.\n",
    "2) (I): This is an unsigned integer."
   ]
  },
  {
   "cell_type": "code",
   "execution_count": 65,
   "metadata": {},
   "outputs": [],
   "source": [
    "# load_mnist function returns two arrays first n*m, n = number of samples and  m= number of features\n",
    "# second array 784 per row, second array (labels) return by the load_mnist function contains the target variable,(integre 0-9)\n",
    "def load_mnist(path, kind= 'train'):\n",
    "    \"\"\" Load MNIST data from ´path`\"\"\"\n",
    "    labels_path = os.path.join(path, '%s-labels-idx1-ubyte'\n",
    "                             % kind)\n",
    "    images_path = os.path.join(path,\n",
    "                              '%s-images-idx3-ubyte'\n",
    "                              % kind)\n",
    "# read image \n",
    "    with open(labels_path, 'rb') as lbpath:\n",
    "        magic, n = struct.unpack('>II',\n",
    "                                lbpath.read(8))\n",
    "        labels = np.fromfile(lbpath,\n",
    "                             dtype = np.uint8)\n",
    "        \n",
    "    with open(images_path, 'rb') as imgpath:\n",
    "        magic, num, rows, cols = struct.unpack(\">IIII\", imgpath.read(16))\n",
    "        \n",
    "        images = np.fromfile(imgpath,\n",
    "                    dtype=np.uint8).reshape(len(labels), 784)\n",
    "        \n",
    "    return images, labels  \n",
    "# we basically load 60000 training instance as well as 10000 test sample from minst directory "
   ]
  },
  {
   "cell_type": "markdown",
   "metadata": {},
   "source": [
    "By extracting the following code, we will now load the 60000 training instances as well as the 10000 test samples from the mnist directory where we unzipped the MNIST dataset:"
   ]
  },
  {
   "cell_type": "code",
   "execution_count": 60,
   "metadata": {},
   "outputs": [],
   "source": [
    "X_train, Y_train = load_mnist('mnist', kind='train')"
   ]
  },
  {
   "cell_type": "code",
   "execution_count": 61,
   "metadata": {},
   "outputs": [
    {
     "name": "stdout",
     "output_type": "stream",
     "text": [
      "Rows: 60000, columns: 784\n"
     ]
    }
   ],
   "source": [
    "print('Rows: %d, columns: %d'\n",
    "     % (X_train.shape[0], X_train.shape[1]))"
   ]
  },
  {
   "cell_type": "code",
   "execution_count": 62,
   "metadata": {},
   "outputs": [],
   "source": [
    "# Rows: 60000, columns: 784\n",
    "X_test, y_test = load_mnist('mnist', kind = 't10k')"
   ]
  },
  {
   "cell_type": "code",
   "execution_count": 63,
   "metadata": {},
   "outputs": [
    {
     "name": "stdout",
     "output_type": "stream",
     "text": [
      "Rows: 10000, columns: 784\n"
     ]
    }
   ],
   "source": [
    "# Rows: 60000, columns: 784\n",
    "print('Rows: %d, columns: %d'\n",
    "     % (X_test.shape[0], X_test.shape[1]))"
   ]
  },
  {
   "cell_type": "markdown",
   "metadata": {},
   "source": [
    "# Plot of the 2*5 subfigures showing a representative image of each unique digit"
   ]
  },
  {
   "cell_type": "markdown",
   "metadata": {},
   "source": [
    "To get a idea what the images in MNIST look like, let's visualize examples of the digits 0-9 after reshaping the 784 pixel vectors from our feature matrix into the original 28*28 image that we can plot via imshow function:"
   ]
  },
  {
   "cell_type": "code",
   "execution_count": 49,
   "metadata": {},
   "outputs": [
    {
     "data": {
      "image/png": "[encoded data removed]",
      "text/plain": [
       "<Figure size 432x288 with 10 Axes>"
      ]
     },
     "metadata": {},
     "output_type": "display_data"
    }
   ],
   "source": [
    "# visualize examples of the digits 0-9 afyter reshaping the 784-pixel vectors\n",
    "#from our feature matrix into the original 28*28 image that we can plot \n",
    "import matplotlib.pyplot as plt\n",
    "fig, ax = plt.subplots(nrows=2, ncols=5, sharex=True, sharey=True,)\n",
    "ax = ax.flatten()\n",
    "for i in range(10):\n",
    "    img = X_train[Y_train ==i][0].reshape(28, 28)\n",
    "    ax[i].imshow(img, cmap='Greys', interpolation= 'nearest')\n",
    "    ax[0].set_xticks([])\n",
    "    ax[0].set_yticks([])\n",
    "    plt.tight_layout()\n",
    "plt.show()"
   ]
  },
  {
   "cell_type": "markdown",
   "metadata": {},
   "source": [
    "#### Plot multiple example of the same digit to see how different thoes handwriting examples really are:"
   ]
  },
  {
   "cell_type": "code",
   "execution_count": 57,
   "metadata": {},
   "outputs": [
    {
     "data": {
      "image/png": "[encoded data removed]",
      "text/plain": [
       "<Figure size 432x288 with 25 Axes>"
      ]
     },
     "metadata": {},
     "output_type": "display_data"
    }
   ],
   "source": [
    "fig, ax = plt.subplots(nrows=5,\n",
    "                      ncols=5,\n",
    "                      sharex=True,\n",
    "                      sharey=True,)\n",
    "ax = ax.flatten()\n",
    "for i in range(25):\n",
    "    img = X_train[Y_train == 7][i].reshape(28, 28)\n",
    "    ax[i].imshow(img, cmap='Greys', interpolation='nearest')\n",
    "    ax[0].set_xticks([])\n",
    "    ax[0].set_yticks([])\n",
    "    plt.tight_layout()\n",
    "plt.show()"
   ]
  },
  {
   "cell_type": "markdown",
   "metadata": {},
   "source": [
    "we can save the MNIST image data and labels as CSV files. In order to open them in programs that do not support their special byte format."
   ]
  },
  {
   "cell_type": "code",
   "execution_count": 50,
   "metadata": {},
   "outputs": [],
   "source": [
    "np.savetxt('train_img.csv', X_train, fmt='%i', delimiter=',')\n",
    "np.savetxt('train_labels.csv', Y_train, fmt='%i', delimiter=',')\n",
    "np.savetxt('test_img.csv', X_test, fmt='%i', delimiter=',')\n",
    "np.savetxt('test_labels.csv', y_test, fmt='%i', delimiter=',')"
   ]
  },
  {
   "cell_type": "markdown",
   "metadata": {},
   "source": [
    "CSV files, we can load them back into python using Numpy's genfromtxt function:"
   ]
  },
  {
   "cell_type": "code",
   "execution_count": 51,
   "metadata": {},
   "outputs": [],
   "source": [
    "X_train = np.genfromtxt('train_img.csv',\n",
    "                       dtype=int, delimiter=',')\n",
    "y_train = np.genfromtxt('train_labels.csv',\n",
    "                       dtype=int, delimiter=',')\n",
    "X_test = np.genfromtxt('test_img.csv',\n",
    "                       dtype=int, delimiter=',')\n",
    "y_test = np.genfromtxt('test_labels.csv',\n",
    "                       dtype=int, delimiter=',')"
   ]
  },
  {
   "cell_type": "markdown",
   "metadata": {},
   "source": [
    "### My K-NN Classification Implementation used on Exe1 "
   ]
  },
  {
   "cell_type": "code",
   "execution_count": 52,
   "metadata": {},
   "outputs": [],
   "source": [
    "def euclidean_distance(x,y):\n",
    "    return np.sqrt(np.sum((x-y)**2,axis=0)) "
   ]
  },
  {
   "cell_type": "code",
   "execution_count": 53,
   "metadata": {},
   "outputs": [],
   "source": [
    "def knn(xtr,xte,lb,k=1,print_=0):\n",
    "    \n",
    "    distance_list = [[euclidean_distance(train_i,test_i) for train_i in xtr] for test_i in  xte]\n",
    "    distance_list = np.array(distance_list)\n",
    "       \n",
    "    sorted_distance_list = np.sort(distance_list, axis=1)\n",
    "    sorted_index = np.argsort(distance_list, axis=1)\n",
    "   \n",
    "    k_nearest_poins = np.take(xtr,sorted_index[:,0:k],axis=0)\n",
    "    \n",
    "    k_nearest_label = np.take(lb,sorted_index[:,0:k],axis=0)\n",
    "        \n",
    "    distance_k_nearest_points = [sorted_distance_list[:,0:k] ]\n",
    "    \n",
    "    predicted = []\n",
    "    \n",
    "    for p in k_nearest_label:\n",
    "        predicted.append(np.bincount(p).argmax())\n",
    "\n",
    "    predicted = np.array(predicted)\n",
    "    \n",
    "    return predicted"
   ]
  },
  {
   "cell_type": "markdown",
   "metadata": {},
   "source": [
    "### Note: It take around 30 minutes to run :("
   ]
  },
  {
   "cell_type": "code",
   "execution_count": 54,
   "metadata": {},
   "outputs": [
    {
     "data": {
      "text/plain": [
       "array([7, 2, 1, ..., 4, 5, 6])"
      ]
     },
     "execution_count": 54,
     "metadata": {},
     "output_type": "execute_result"
    }
   ],
   "source": [
    "knn(X_train,X_test,y_train,k=5,print_=1)"
   ]
  },
  {
   "cell_type": "code",
   "execution_count": null,
   "metadata": {},
   "outputs": [],
   "source": []
  }
 ],
 "metadata": {
  "kernelspec": {
   "display_name": "Python 3",
   "language": "python",
   "name": "python3"
  },
  "language_info": {
   "codemirror_mode": {
    "name": "ipython",
    "version": 3
   },
   "file_extension": ".py",
   "mimetype": "text/x-python",
   "name": "python",
   "nbconvert_exporter": "python",
   "pygments_lexer": "ipython3",
   "version": "3.6.8"
  }
 },
 "nbformat": 4,
 "nbformat_minor": 2
}
