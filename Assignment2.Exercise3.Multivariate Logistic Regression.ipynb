{
 "cells": [
  {
   "cell_type": "markdown",
   "metadata": {},
   "source": [
    "## Assignment2.Exercise3: Multivariate Logistic Regression"
   ]
  },
  {
   "cell_type": "code",
   "execution_count": 5,
   "metadata": {},
   "outputs": [],
   "source": [
    "import numpy as np\n",
    "import matplotlib.pyplot as plt\n",
    "%matplotlib inline"
   ]
  },
  {
   "cell_type": "markdown",
   "metadata": {},
   "source": [
    "### Exe3.Question1. Read data and shuffle the rows"
   ]
  },
  {
   "cell_type": "code",
   "execution_count": 6,
   "metadata": {},
   "outputs": [],
   "source": [
    "data = np.loadtxt('breast_cancer.csv' ,delimiter=',')\n",
    "\n",
    "np.random.shuffle(data)"
   ]
  },
  {
   "cell_type": "markdown",
   "metadata": {},
   "source": [
    "### Exe3.Question2. Replace the response 2 qnd 4 with 0 and 1"
   ]
  },
  {
   "cell_type": "code",
   "execution_count": 7,
   "metadata": {},
   "outputs": [],
   "source": [
    "f = lambda x:1 if x[0]==4 else 0\n",
    "\n",
    "data[:,9] = np.apply_along_axis(f,1,data[:,9].reshape(-1,1)) \n",
    "\n",
    "size = data.shape[0]\n",
    "train, test = data[:int(0.70*size),:], data[int(0.70*size):,:]\n",
    "# 70%  training and 30% testing\n",
    "\n",
    "X = train[:,:9]\n",
    "y=train[:,9]\n",
    "\n",
    "Xtest = test[:,:9]\n",
    "ytest=test[:,9]"
   ]
  },
  {
   "cell_type": "markdown",
   "metadata": {},
   "source": [
    "The reason which I choose 70% and 30%:\n",
    "Generally, k-fold cross validation; e.g. 10-fold cross validation, is the best.\n",
    "Based on most of Literature reviews about this issue splitting the dataset; few training data causes that  parameter estimates will have greater variance, whereas with few test data, our performance statistic will have greater variance. Therefore, we need to have compromise about that."
   ]
  },
  {
   "cell_type": "markdown",
   "metadata": {},
   "source": [
    "#### Exe3.Question3. Normalize the Training data and Test data and Print the hyperparameters and Plot the Cost Function over iteration"
   ]
  },
  {
   "cell_type": "code",
   "execution_count": 8,
   "metadata": {},
   "outputs": [],
   "source": [
    "def normalize(X):\n",
    "    means = X.mean(axis=0)\n",
    "    stds = X.std(axis=0)\n",
    "    \n",
    "    def normal_(x):\n",
    "        return (x - means) / stds\n",
    "    \n",
    "    return normal_\n",
    "\n",
    "\n",
    "func_normal=normalize(X)\n",
    "normalX = func_normal(X)"
   ]
  },
  {
   "cell_type": "code",
   "execution_count": 9,
   "metadata": {},
   "outputs": [],
   "source": [
    "Xe = np.c_[np.ones((normalX.shape[0],1)),normalX]"
   ]
  },
  {
   "cell_type": "code",
   "execution_count": 10,
   "metadata": {},
   "outputs": [],
   "source": [
    "def logistic(x):\n",
    "    return np.exp(x)/(1 + np.exp(x))\n",
    "\n",
    "\n",
    "def CostFunc(theta, X, y):\n",
    "  \n",
    "    J = - (1 / X.shape[0]) * (np.log(logistic(X @ theta)).T @ y + np.log(1 - logistic(X @ theta)).T @ (1 - y))\n",
    "   \n",
    "    return J\n",
    "\n",
    "def gradient_descent(X, y, theta,N, rate):\n",
    "    costList = []\n",
    "    for i in range(N):\n",
    "        prediction = logistic(X@ theta)\n",
    "        error = prediction - y\n",
    "        costList.append(CostFunc(theta,X,y))\n",
    "        theta = theta - (rate * (X.T @ error))\n",
    "\n",
    "    return theta,costList"
   ]
  },
  {
   "cell_type": "code",
   "execution_count": 11,
   "metadata": {},
   "outputs": [],
   "source": [
    "init_theta = np.zeros(Xe.shape[1])\n",
    "niter=1000\n",
    "rate = 0.0001\n",
    "\n",
    "theta,costList = gradient_descent(Xe, y, theta=init_theta, N=niter, rate=rate)"
   ]
  },
  {
   "cell_type": "code",
   "execution_count": 14,
   "metadata": {
    "scrolled": true
   },
   "outputs": [
    {
     "data": {
      "image/png": "[encoded data removed]",
      "text/plain": [
       "<Figure size 432x288 with 1 Axes>"
      ]
     },
     "metadata": {
      "needs_background": "light"
     },
     "output_type": "display_data"
    }
   ],
   "source": [
    "plt.plot(range(1, len(costList) + 1), costList)\n",
    "plt.xlabel('Iterations')\n",
    "plt.ylabel('Cost Function')\n",
    "plt.title('α ={} , Niter = {}'.format(rate,niter))\n",
    "plt.show()"
   ]
  },
  {
   "cell_type": "markdown",
   "metadata": {},
   "source": [
    "## Exe3.Question4: Training Error and Training accuracy"
   ]
  },
  {
   "cell_type": "code",
   "execution_count": 15,
   "metadata": {},
   "outputs": [],
   "source": [
    "y_pred = logistic(Xe @ theta)\n",
    "labels = y_pred >= 0.5\n",
    "\n",
    "\n",
    "compare = (labels == (y==1))\n",
    "\n",
    "ff = lambda x:1 if x[0]==True else 0\n",
    "\n",
    "compare = np.apply_along_axis(ff,1,compare.reshape(-1,1)) "
   ]
  },
  {
   "cell_type": "code",
   "execution_count": 17,
   "metadata": {},
   "outputs": [
    {
     "name": "stdout",
     "output_type": "stream",
     "text": [
      "training error = 15\n",
      "training accuracy = 0.9686192468619247\n"
     ]
    }
   ],
   "source": [
    "correct = np.count_nonzero(compare)\n",
    "non_correct = compare.shape[0] - correct\n",
    "accuracy = correct / (correct+non_correct)\n",
    "\n",
    "print(\"training error = {}\".format(non_correct))\n",
    "\n",
    "print(\"training accuracy = {}\".format(accuracy))"
   ]
  },
  {
   "cell_type": "markdown",
   "metadata": {},
   "source": [
    "## Exe3.Question5: Test Error and Test Accuracy"
   ]
  },
  {
   "cell_type": "code",
   "execution_count": 18,
   "metadata": {},
   "outputs": [],
   "source": [
    "func_normal=normalize(Xtest)\n",
    "normalXt = func_normal(Xtest)\n",
    "Xte = np.c_[np.ones((normalXt.shape[0],1)),normalXt]\n",
    "\n",
    "yt_pred = logistic(Xte @ theta)\n",
    "labels_t = yt_pred >= 0.5\n",
    "\n",
    "compare_t = (labels_t == (ytest==1))\n",
    "\n",
    "compare_t = np.apply_along_axis(ff,1,compare_t.reshape(-1,1)) "
   ]
  },
  {
   "cell_type": "code",
   "execution_count": 20,
   "metadata": {},
   "outputs": [
    {
     "name": "stdout",
     "output_type": "stream",
     "text": [
      "test error = 5\n",
      "test accuracy  = 0.975609756097561\n"
     ]
    }
   ],
   "source": [
    "correct_t = np.count_nonzero(compare_t)\n",
    "non_correct_t = compare_t.shape[0] - correct_t\n",
    "accuracy_t = correct_t / (correct_t+non_correct_t)\n",
    "\n",
    "print(\"test error = {}\".format(non_correct_t))\n",
    "\n",
    "print(\"test accuracy  = {}\".format(accuracy_t))"
   ]
  },
  {
   "cell_type": "markdown",
   "metadata": {},
   "source": [
    "## Exe3.Question6"
   ]
  },
  {
   "cell_type": "markdown",
   "metadata": {},
   "source": [
    "the results with shuffling aren't the same when we repeat it. I don't think so, they would be the same even qualitatively, since with shuffling we are getting different train set and test set, therefore our model and Consequently, our prediction would not be the same. Also, It worth to mention that more training dataset have less error(more accuracy) in prediction in test set."
   ]
  }
 ],
 "metadata": {
  "kernelspec": {
   "display_name": "Python 3",
   "language": "python",
   "name": "python3"
  },
  "language_info": {
   "codemirror_mode": {
    "name": "ipython",
    "version": 3
   },
   "file_extension": ".py",
   "mimetype": "text/x-python",
   "name": "python",
   "nbconvert_exporter": "python",
   "pygments_lexer": "ipython3",
   "version": "3.6.8"
  }
 },
 "nbformat": 4,
 "nbformat_minor": 2
}
