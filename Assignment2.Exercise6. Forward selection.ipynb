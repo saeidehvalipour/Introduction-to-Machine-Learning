{
 "cells": [
  {
   "cell_type": "markdown",
   "metadata": {},
   "source": [
    "# Assignment2.Exercise6: Forward selection"
   ]
  },
  {
   "cell_type": "code",
   "execution_count": 278,
   "metadata": {},
   "outputs": [],
   "source": [
    "import numpy as np\n",
    "import matplotlib.pyplot as plt\n",
    "from matplotlib.ticker import MaxNLocator\n",
    "from collections import namedtuple\n",
    "%matplotlib inline"
   ]
  },
  {
   "cell_type": "code",
   "execution_count": 266,
   "metadata": {},
   "outputs": [],
   "source": [
    "data = np.loadtxt('GPUbenchmark.csv' ,delimiter=',')"
   ]
  },
  {
   "cell_type": "code",
   "execution_count": 267,
   "metadata": {},
   "outputs": [
    {
     "data": {
      "text/plain": [
       "(18, 7)"
      ]
     },
     "execution_count": 267,
     "metadata": {},
     "output_type": "execute_result"
    }
   ],
   "source": [
    "data.shape"
   ]
  },
  {
   "cell_type": "code",
   "execution_count": 268,
   "metadata": {},
   "outputs": [],
   "source": [
    "X =  data[:,0:6]\n",
    "y = data[:,6]"
   ]
  },
  {
   "cell_type": "markdown",
   "metadata": {},
   "source": [
    "## Exe6.Question1: Perform the Forward selection"
   ]
  },
  {
   "cell_type": "code",
   "execution_count": 1,
   "metadata": {},
   "outputs": [],
   "source": [
    "def normalize(X):\n",
    "    means = X.mean(axis=0)\n",
    "    stds = X.std(axis=0)\n",
    "    \n",
    "    def normal_(x):\n",
    "        return (x - means) / stds\n",
    "    \n",
    "    return normal_"
   ]
  },
  {
   "cell_type": "code",
   "execution_count": 270,
   "metadata": {},
   "outputs": [],
   "source": [
    "func_normal=normalize(X)\n",
    "normalX = func_normal(X)"
   ]
  },
  {
   "cell_type": "code",
   "execution_count": 271,
   "metadata": {},
   "outputs": [],
   "source": [
    "def model(X,y):\n",
    "    beta = np.linalg.inv(X.T.dot(X)).dot(X.T).dot(y)\n",
    "    def pred_error(x,yy):\n",
    "        j = np.dot(x,beta)-yy\n",
    "        J = (j.T.dot(j))/x.shape[0]\n",
    "        \n",
    "        return J\n",
    "    return pred_error\n",
    " "
   ]
  },
  {
   "cell_type": "code",
   "execution_count": 272,
   "metadata": {},
   "outputs": [],
   "source": [
    "from collections import defaultdict\n",
    "modelF = defaultdict(list)\n",
    "\n",
    "for m in range(1,7):\n",
    "    costList = np.full(normalX.shape[1], np.inf)\n",
    "    for j in range(6):\n",
    "        if j in modelF[m-1]:\n",
    "            continue\n",
    "            \n",
    "        Xe = np.c_[np.ones((normalX.shape[0],1)),normalX[:,modelF[m-1]],X[:,j]]\n",
    "        pred_error = model(Xe,y)\n",
    "        cost =pred_error(Xe,y)\n",
    "        costList[j]=cost\n",
    "    #print(costList)    \n",
    "    modelF[m].extend(modelF[m-1])\n",
    "    modelF[m].append(np.argmin(costList))\n"
   ]
  },
  {
   "cell_type": "code",
   "execution_count": 273,
   "metadata": {},
   "outputs": [
    {
     "name": "stdout",
     "output_type": "stream",
     "text": [
      "our 6 model with index of feature column in normalX\n"
     ]
    },
    {
     "data": {
      "text/plain": [
       "defaultdict(list,\n",
       "            {0: [],\n",
       "             1: [4],\n",
       "             2: [4, 5],\n",
       "             3: [4, 5, 2],\n",
       "             4: [4, 5, 2, 0],\n",
       "             5: [4, 5, 2, 0, 3],\n",
       "             6: [4, 5, 2, 0, 3, 1]})"
      ]
     },
     "execution_count": 273,
     "metadata": {},
     "output_type": "execute_result"
    }
   ],
   "source": [
    "print(\"our 6 model with index of feature column in normalX\")\n",
    "modelF"
   ]
  },
  {
   "cell_type": "markdown",
   "metadata": {},
   "source": [
    "## Exe6.Question2: Plot"
   ]
  },
  {
   "cell_type": "markdown",
   "metadata": {},
   "source": [
    "I use a built-in version of k-fold cross validation "
   ]
  },
  {
   "cell_type": "code",
   "execution_count": 274,
   "metadata": {},
   "outputs": [],
   "source": [
    "train_test_error = defaultdict(lambda:defaultdict(list))"
   ]
  },
  {
   "cell_type": "code",
   "execution_count": 275,
   "metadata": {},
   "outputs": [],
   "source": [
    "from sklearn.model_selection import KFold\n",
    "\n",
    "kf = KFold(n_splits=5)\n"
   ]
  },
  {
   "cell_type": "code",
   "execution_count": 277,
   "metadata": {},
   "outputs": [],
   "source": [
    "for m in range(1,7):\n",
    "    kf.get_n_splits(normalX[:,modelF[m]])\n",
    "\n",
    "\n",
    "    for train_index, test_index in kf.split(normalX[:,modelF[m]]):\n",
    "        X_train, X_test = normalX[:,modelF[m]][train_index], normalX[:,modelF[m]][test_index]\n",
    "        y_train, y_test = y[train_index], y[test_index]\n",
    "        \n",
    "        X_train = np.c_[np.ones((X_train.shape[0],1)),X_train]\n",
    "        X_test = np.c_[np.ones((X_test.shape[0],1)),X_test]\n",
    "    \n",
    "        pred_error = model(X_train,y_train)\n",
    "        tr_error = pred_error(X_train,y_train)\n",
    "        te_error = pred_error(X_test,y_test)\n",
    "    \n",
    "        train_test_error[m][\"tr_error\"].append(tr_error)\n",
    "        train_test_error[m][\"te_error\"].append(te_error)\n",
    "\n",
    "    \n",
    "       "
   ]
  },
  {
   "cell_type": "code",
   "execution_count": 279,
   "metadata": {},
   "outputs": [
    {
     "data": {
      "image/png": "[encoded data removed]",
      "text/plain": [
       "<Figure size 432x288 with 1 Axes>"
      ]
     },
     "metadata": {},
     "output_type": "display_data"
    }
   ],
   "source": [
    "\n",
    "n_groups = len(train_test_error)\n",
    "\n",
    "means_tr_er = []\n",
    "means_te_er = []\n",
    "\n",
    "for i in range(n_groups):\n",
    "    means_tr_er.append(np.array(train_test_error[i+1]['tr_error']).mean())\n",
    "    means_te_er.append(np.array(train_test_error[i+1]['te_error']).mean())\n",
    "\n",
    "    \n",
    "\n",
    "\n",
    "fig, ax = plt.subplots()\n",
    "\n",
    "index = np.arange(n_groups)\n",
    "bar_width = 0.35\n",
    "\n",
    "opacity = 0.4\n",
    "error_config = {'ecolor': '0.3'}\n",
    "\n",
    "rects1 = ax.bar(index, means_tr_er, bar_width,\n",
    "                alpha=opacity, color='b',\n",
    "                 error_kw=error_config,\n",
    "                label='tr_error')\n",
    "\n",
    "rects2 = ax.bar(index + bar_width, means_te_er, bar_width,\n",
    "                alpha=opacity, color='r',\n",
    "                 error_kw=error_config,\n",
    "                label='test_error')\n",
    "\n",
    "ax.set_xlabel('Models')\n",
    "ax.set_ylabel('error')\n",
    "#ax.set_title('')\n",
    "ax.set_xticks(index + bar_width / 2)\n",
    "ax.set_xticklabels(('m1', 'm2', 'm3', 'm4', 'm5','m6'))\n",
    "ax.legend()\n",
    "\n",
    "fig.tight_layout()\n",
    "plt.show()"
   ]
  },
  {
   "cell_type": "markdown",
   "metadata": {},
   "source": [
    "It seems that M5 is the best choice of model, since it has minimum Test error and train error."
   ]
  }
 ],
 "metadata": {
  "kernelspec": {
   "display_name": "Python 3",
   "language": "python",
   "name": "python3"
  },
  "language_info": {
   "codemirror_mode": {
    "name": "ipython",
    "version": 3
   },
   "file_extension": ".py",
   "mimetype": "text/x-python",
   "name": "python",
   "nbconvert_exporter": "python",
   "pygments_lexer": "ipython3",
   "version": "3.6.8"
  }
 },
 "nbformat": 4,
 "nbformat_minor": 2
}
