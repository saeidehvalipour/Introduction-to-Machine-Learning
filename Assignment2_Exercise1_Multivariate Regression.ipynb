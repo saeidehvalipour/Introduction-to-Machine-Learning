{
 "cells": [
  {
   "cell_type": "markdown",
   "metadata": {},
   "source": [
    "## Assignment2.Exercise1: Multivariate Regression"
   ]
  },
  {
   "cell_type": "code",
   "execution_count": 2,
   "metadata": {},
   "outputs": [],
   "source": [
    "import numpy as np\n",
    "import matplotlib.pyplot as plt\n",
    "%matplotlib inline"
   ]
  },
  {
   "cell_type": "code",
   "execution_count": 3,
   "metadata": {},
   "outputs": [],
   "source": [
    "data = np.loadtxt('GPUbenchmark.csv' ,delimiter=',')"
   ]
  },
  {
   "cell_type": "code",
   "execution_count": 4,
   "metadata": {},
   "outputs": [
    {
     "data": {
      "text/plain": [
       "(18, 7)"
      ]
     },
     "execution_count": 4,
     "metadata": {},
     "output_type": "execute_result"
    }
   ],
   "source": [
    "data.shape"
   ]
  },
  {
   "cell_type": "code",
   "execution_count": 5,
   "metadata": {},
   "outputs": [],
   "source": [
    "X =  data[:,0:6]\n",
    "y = data[:,6]"
   ]
  },
  {
   "cell_type": "markdown",
   "metadata": {},
   "source": [
    "## Exe1.Question. Normalizing X"
   ]
  },
  {
   "cell_type": "code",
   "execution_count": 6,
   "metadata": {},
   "outputs": [],
   "source": [
    "def normalize(X):\n",
    "    means = X.mean(axis=0)\n",
    "    stds = X.std(axis=0)\n",
    "    \n",
    "    def normal_(x):\n",
    "        return (x - means) / stds\n",
    "    \n",
    "    return normal_"
   ]
  },
  {
   "cell_type": "code",
   "execution_count": 7,
   "metadata": {},
   "outputs": [],
   "source": [
    "func_normal=normalize(X)\n",
    "normalX = func_normal(X)"
   ]
  },
  {
   "cell_type": "code",
   "execution_count": 9,
   "metadata": {},
   "outputs": [
    {
     "data": {
      "text/plain": [
       "range(0, 6)"
      ]
     },
     "execution_count": 9,
     "metadata": {},
     "output_type": "execute_result"
    }
   ],
   "source": [
    "range(normalX.shape[1])"
   ]
  },
  {
   "cell_type": "markdown",
   "metadata": {},
   "source": [
    "## Exe1.Question2. Plot X vs y"
   ]
  },
  {
   "cell_type": "code",
   "execution_count": 7,
   "metadata": {},
   "outputs": [
    {
     "data": {
      "image/png": "[encoded data removed]",
      "text/plain": [
       "<Figure size 1440x1080 with 6 Axes>"
      ]
     },
     "metadata": {
      "needs_background": "light"
     },
     "output_type": "display_data"
    }
   ],
   "source": [
    "plt.figure(figsize=(20, 15))\n",
    "for c in range(normalX.shape[1]):\n",
    "    plt.subplot(2,3, c+1)\n",
    "    plt.plot(normalX[:, c], y, 'o', alpha=0.5)"
   ]
  },
  {
   "cell_type": "markdown",
   "metadata": {},
   "source": [
    "## Exe1.Question3. Compute beta using the normal equation"
   ]
  },
  {
   "cell_type": "code",
   "execution_count": 20,
   "metadata": {},
   "outputs": [],
   "source": [
    "#Vectorization \n",
    "#Extending Xe\n",
    "Xe = np.c_[np.ones((normalX.shape[0],1)),normalX]"
   ]
  },
  {
   "cell_type": "code",
   "execution_count": 17,
   "metadata": {},
   "outputs": [],
   "source": [
    "#Normaal Equation: beta\n",
    "beta = np.linalg.inv(Xe.T.dot(Xe)).dot(Xe.T).dot(y)"
   ]
  },
  {
   "cell_type": "code",
   "execution_count": 18,
   "metadata": {},
   "outputs": [
    {
     "data": {
      "text/plain": [
       "array([65.18888889, 18.05577085, -5.3521726 , 13.04504442,  4.19572708,\n",
       "       10.04004069,  1.26250957])"
      ]
     },
     "execution_count": 18,
     "metadata": {},
     "output_type": "execute_result"
    }
   ],
   "source": [
    "beta"
   ]
  },
  {
   "cell_type": "code",
   "execution_count": 19,
   "metadata": {},
   "outputs": [
    {
     "data": {
      "text/plain": [
       "110.80403513783277"
      ]
     },
     "execution_count": 19,
     "metadata": {},
     "output_type": "execute_result"
    }
   ],
   "source": [
    "test = np.array([2432, 1607, 1683, 8, 8, 256])\n",
    "normal_test = func_normal(test)\n",
    "normal_test_e = np.insert(normal_test,0,1)\n",
    "\n",
    "\n",
    "predicted = np.sum(normal_test_e.dot(beta))\n",
    "predicted"
   ]
  },
  {
   "cell_type": "markdown",
   "metadata": {},
   "source": [
    "## Exe1.Question4. cost J(beta)"
   ]
  },
  {
   "cell_type": "code",
   "execution_count": 12,
   "metadata": {},
   "outputs": [
    {
     "data": {
      "text/plain": [
       "12.396444360915678"
      ]
     },
     "execution_count": 12,
     "metadata": {},
     "output_type": "execute_result"
    }
   ],
   "source": [
    "#Cost function J\n",
    "j = np.dot(Xe,beta)-y\n",
    "J = (j.T.dot(j))/X.shape[0]\n",
    "\n",
    "J"
   ]
  },
  {
   "cell_type": "markdown",
   "metadata": {},
   "source": [
    "## Exe1.Question5.Gradient descent"
   ]
  },
  {
   "cell_type": "code",
   "execution_count": 13,
   "metadata": {},
   "outputs": [],
   "source": [
    "def gradient_descent(X, y, theta,N, rate):\n",
    "\n",
    "    for i in range(N):\n",
    "        prediction = np.dot(X, theta)  \n",
    "        error = prediction - y\n",
    "        cost = 1/(X.shape[0]) * np.dot(error.T, error) \n",
    "        theta = theta - (rate * np.dot(X.T, error))\n",
    "\n",
    "\n",
    "    print(cost)\n",
    "    return theta"
   ]
  },
  {
   "cell_type": "code",
   "execution_count": 14,
   "metadata": {},
   "outputs": [
    {
     "name": "stdout",
     "output_type": "stream",
     "text": [
      "12.39644436092588\n"
     ]
    }
   ],
   "source": [
    "init_theta = np.zeros(Xe.shape[1])\n",
    "\n",
    "theta = gradient_descent(Xe, y, theta=init_theta, N=1000000, rate=0.0001)"
   ]
  },
  {
   "cell_type": "markdown",
   "metadata": {},
   "source": [
    "## Exe1.Question5(a)"
   ]
  },
  {
   "cell_type": "code",
   "execution_count": 15,
   "metadata": {},
   "outputs": [
    {
     "name": "stdout",
     "output_type": "stream",
     "text": [
      "α =0.0001 , N = 90960 \n"
     ]
    }
   ],
   "source": [
    "cost_normalEq = J\n",
    "\n",
    "theta =  init_theta\n",
    "rate=0.0001\n",
    "i=1\n",
    "\n",
    "while True:\n",
    "    prediction = np.dot(Xe, theta)  \n",
    "    error = prediction - y\n",
    "    cost = 1/(Xe.shape[0]) * np.dot(error.T, error) \n",
    "    theta = theta - (rate * np.dot(Xe.T, error)) \n",
    "    if cost <= 1.01*cost_normalEq:\n",
    "        break\n",
    "    else :\n",
    "        i +=1\n",
    "        continue\n",
    "\n",
    "print(\"α ={} , N = {} \".format(rate,i))"
   ]
  },
  {
   "cell_type": "markdown",
   "metadata": {},
   "source": [
    "## Exe1.Question5(b)"
   ]
  },
  {
   "cell_type": "code",
   "execution_count": 16,
   "metadata": {},
   "outputs": [
    {
     "data": {
      "text/plain": [
       "111.79502694112682"
      ]
     },
     "execution_count": 16,
     "metadata": {},
     "output_type": "execute_result"
    }
   ],
   "source": [
    "predicted = np.sum(normal_test_e.dot(theta))\n",
    "predicted"
   ]
  }
 ],
 "metadata": {
  "kernelspec": {
   "display_name": "Python 3",
   "language": "python",
   "name": "python3"
  },
  "language_info": {
   "codemirror_mode": {
    "name": "ipython",
    "version": 3
   },
   "file_extension": ".py",
   "mimetype": "text/x-python",
   "name": "python",
   "nbconvert_exporter": "python",
   "pygments_lexer": "ipython3",
   "version": "3.7.7"
  }
 },
 "nbformat": 4,
 "nbformat_minor": 2
}
